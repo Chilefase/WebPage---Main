{
  "nbformat": 4,
  "nbformat_minor": 0,
  "metadata": {
    "colab": {
      "name": "Crypto_Efficient_Portfolio.ipynb",
      "provenance": [],
      "collapsed_sections": []
    },
    "kernelspec": {
      "name": "python3",
      "display_name": "Python 3"
    },
    "language_info": {
      "name": "python"
    }
  },
  "cells": [
    {
      "cell_type": "markdown",
      "source": [
        "#Setup"
      ],
      "metadata": {
        "id": "OhZbACGPjmoJ"
      }
    },
    {
      "cell_type": "code",
      "source": [
        "!pip install PyPortfolioOpt\n",
        "!pip install python-binance"
      ],
      "metadata": {
        "id": "rq21ASTnlWym",
        "colab": {
          "base_uri": "https://localhost:8080/"
        },
        "outputId": "54e5f017-950b-4342-c02e-e227e64553f8"
      },
      "execution_count": 1,
      "outputs": [
        {
          "output_type": "stream",
          "name": "stdout",
          "text": [
            "Collecting PyPortfolioOpt\n",
            "  Downloading pyportfolioopt-1.5.2-py3-none-any.whl (61 kB)\n",
            "\u001b[K     |████████████████████████████████| 61 kB 3.1 MB/s \n",
            "\u001b[?25hCollecting cvxpy<2.0.0,>=1.1.10\n",
            "  Downloading cvxpy-1.2.0-cp37-cp37m-manylinux_2_24_x86_64.whl (2.8 MB)\n",
            "\u001b[K     |████████████████████████████████| 2.8 MB 9.8 MB/s \n",
            "\u001b[?25hRequirement already satisfied: numpy<2.0,>=1.12 in /usr/local/lib/python3.7/dist-packages (from PyPortfolioOpt) (1.21.6)\n",
            "Requirement already satisfied: scipy<2.0,>=1.3 in /usr/local/lib/python3.7/dist-packages (from PyPortfolioOpt) (1.4.1)\n",
            "Requirement already satisfied: pandas>=0.19 in /usr/local/lib/python3.7/dist-packages (from PyPortfolioOpt) (1.3.5)\n",
            "Requirement already satisfied: ecos>=2 in /usr/local/lib/python3.7/dist-packages (from cvxpy<2.0.0,>=1.1.10->PyPortfolioOpt) (2.0.10)\n",
            "Requirement already satisfied: scs>=1.1.6 in /usr/local/lib/python3.7/dist-packages (from cvxpy<2.0.0,>=1.1.10->PyPortfolioOpt) (3.2.0)\n",
            "Requirement already satisfied: osqp>=0.4.1 in /usr/local/lib/python3.7/dist-packages (from cvxpy<2.0.0,>=1.1.10->PyPortfolioOpt) (0.6.2.post0)\n",
            "Requirement already satisfied: qdldl in /usr/local/lib/python3.7/dist-packages (from osqp>=0.4.1->cvxpy<2.0.0,>=1.1.10->PyPortfolioOpt) (0.1.5.post2)\n",
            "Requirement already satisfied: pytz>=2017.3 in /usr/local/lib/python3.7/dist-packages (from pandas>=0.19->PyPortfolioOpt) (2022.1)\n",
            "Requirement already satisfied: python-dateutil>=2.7.3 in /usr/local/lib/python3.7/dist-packages (from pandas>=0.19->PyPortfolioOpt) (2.8.2)\n",
            "Requirement already satisfied: six>=1.5 in /usr/local/lib/python3.7/dist-packages (from python-dateutil>=2.7.3->pandas>=0.19->PyPortfolioOpt) (1.15.0)\n",
            "Installing collected packages: cvxpy, PyPortfolioOpt\n",
            "  Attempting uninstall: cvxpy\n",
            "    Found existing installation: cvxpy 1.0.31\n",
            "    Uninstalling cvxpy-1.0.31:\n",
            "      Successfully uninstalled cvxpy-1.0.31\n",
            "Successfully installed PyPortfolioOpt-1.5.2 cvxpy-1.2.0\n",
            "Collecting python-binance\n",
            "  Downloading python_binance-1.0.16-py2.py3-none-any.whl (65 kB)\n",
            "\u001b[K     |████████████████████████████████| 65 kB 2.4 MB/s \n",
            "\u001b[?25hCollecting aiohttp\n",
            "  Downloading aiohttp-3.8.1-cp37-cp37m-manylinux_2_5_x86_64.manylinux1_x86_64.manylinux_2_12_x86_64.manylinux2010_x86_64.whl (1.1 MB)\n",
            "\u001b[K     |████████████████████████████████| 1.1 MB 10.7 MB/s \n",
            "\u001b[?25hRequirement already satisfied: six in /usr/local/lib/python3.7/dist-packages (from python-binance) (1.15.0)\n",
            "Collecting websockets\n",
            "  Downloading websockets-10.3-cp37-cp37m-manylinux_2_5_x86_64.manylinux1_x86_64.manylinux_2_12_x86_64.manylinux2010_x86_64.whl (112 kB)\n",
            "\u001b[K     |████████████████████████████████| 112 kB 58.5 MB/s \n",
            "\u001b[?25hCollecting dateparser\n",
            "  Downloading dateparser-1.1.1-py2.py3-none-any.whl (288 kB)\n",
            "\u001b[K     |████████████████████████████████| 288 kB 49.5 MB/s \n",
            "\u001b[?25hRequirement already satisfied: requests in /usr/local/lib/python3.7/dist-packages (from python-binance) (2.23.0)\n",
            "Collecting ujson\n",
            "  Downloading ujson-5.2.0-cp37-cp37m-manylinux_2_17_x86_64.manylinux2014_x86_64.whl (45 kB)\n",
            "\u001b[K     |████████████████████████████████| 45 kB 3.0 MB/s \n",
            "\u001b[?25hCollecting async-timeout<5.0,>=4.0.0a3\n",
            "  Downloading async_timeout-4.0.2-py3-none-any.whl (5.8 kB)\n",
            "Collecting multidict<7.0,>=4.5\n",
            "  Downloading multidict-6.0.2-cp37-cp37m-manylinux_2_17_x86_64.manylinux2014_x86_64.whl (94 kB)\n",
            "\u001b[K     |████████████████████████████████| 94 kB 3.7 MB/s \n",
            "\u001b[?25hRequirement already satisfied: typing-extensions>=3.7.4 in /usr/local/lib/python3.7/dist-packages (from aiohttp->python-binance) (4.2.0)\n",
            "Requirement already satisfied: charset-normalizer<3.0,>=2.0 in /usr/local/lib/python3.7/dist-packages (from aiohttp->python-binance) (2.0.12)\n",
            "Collecting yarl<2.0,>=1.0\n",
            "  Downloading yarl-1.7.2-cp37-cp37m-manylinux_2_5_x86_64.manylinux1_x86_64.manylinux_2_12_x86_64.manylinux2010_x86_64.whl (271 kB)\n",
            "\u001b[K     |████████████████████████████████| 271 kB 47.4 MB/s \n",
            "\u001b[?25hRequirement already satisfied: attrs>=17.3.0 in /usr/local/lib/python3.7/dist-packages (from aiohttp->python-binance) (21.4.0)\n",
            "Collecting frozenlist>=1.1.1\n",
            "  Downloading frozenlist-1.3.0-cp37-cp37m-manylinux_2_5_x86_64.manylinux1_x86_64.manylinux_2_17_x86_64.manylinux2014_x86_64.whl (144 kB)\n",
            "\u001b[K     |████████████████████████████████| 144 kB 31.1 MB/s \n",
            "\u001b[?25hCollecting aiosignal>=1.1.2\n",
            "  Downloading aiosignal-1.2.0-py3-none-any.whl (8.2 kB)\n",
            "Collecting asynctest==0.13.0\n",
            "  Downloading asynctest-0.13.0-py3-none-any.whl (26 kB)\n",
            "Requirement already satisfied: idna>=2.0 in /usr/local/lib/python3.7/dist-packages (from yarl<2.0,>=1.0->aiohttp->python-binance) (2.10)\n",
            "Requirement already satisfied: tzlocal in /usr/local/lib/python3.7/dist-packages (from dateparser->python-binance) (1.5.1)\n",
            "Requirement already satisfied: python-dateutil in /usr/local/lib/python3.7/dist-packages (from dateparser->python-binance) (2.8.2)\n",
            "Requirement already satisfied: regex!=2019.02.19,!=2021.8.27,<2022.3.15 in /usr/local/lib/python3.7/dist-packages (from dateparser->python-binance) (2019.12.20)\n",
            "Requirement already satisfied: pytz in /usr/local/lib/python3.7/dist-packages (from dateparser->python-binance) (2022.1)\n",
            "Requirement already satisfied: urllib3!=1.25.0,!=1.25.1,<1.26,>=1.21.1 in /usr/local/lib/python3.7/dist-packages (from requests->python-binance) (1.24.3)\n",
            "Requirement already satisfied: certifi>=2017.4.17 in /usr/local/lib/python3.7/dist-packages (from requests->python-binance) (2021.10.8)\n",
            "Requirement already satisfied: chardet<4,>=3.0.2 in /usr/local/lib/python3.7/dist-packages (from requests->python-binance) (3.0.4)\n",
            "Installing collected packages: multidict, frozenlist, yarl, asynctest, async-timeout, aiosignal, websockets, ujson, dateparser, aiohttp, python-binance\n",
            "Successfully installed aiohttp-3.8.1 aiosignal-1.2.0 async-timeout-4.0.2 asynctest-0.13.0 dateparser-1.1.1 frozenlist-1.3.0 multidict-6.0.2 python-binance-1.0.16 ujson-5.2.0 websockets-10.3 yarl-1.7.2\n"
          ]
        }
      ]
    },
    {
      "cell_type": "code",
      "source": [
        "from binance import Client\n",
        "from pypfopt import EfficientFrontier, risk_models, expected_returns, plotting\n",
        "import pandas as pd\n",
        "import numpy as np\n",
        "import matplotlib.pyplot as plt\n",
        "client = Client()"
      ],
      "metadata": {
        "id": "Y1UBk6EfkLcJ"
      },
      "execution_count": 43,
      "outputs": []
    },
    {
      "cell_type": "markdown",
      "source": [
        "#Functions Def"
      ],
      "metadata": {
        "id": "z56TvH1okvae"
      }
    },
    {
      "cell_type": "code",
      "source": [
        "#Get Historical Klines from Binance\n",
        "def getdailydata(symbol):\n",
        "  frame = pd.DataFrame(client.get_historical_klines(symbol,'1d', '3 years ago UTC'))        #Pull /Symbol: BTC-USDT / Interval: 1 Day / Period: 3 Years\n",
        "  frame = frame[[0,4]]                                                                      #[Timestamp, Close Time]\n",
        "  frame.columns = ['Timestamp', symbol]                                                     \n",
        "  frame = frame.set_index('Timestamp')\n",
        "  frame = frame.astype(float)\n",
        "  return frame"
      ],
      "metadata": {
        "id": "rrqQYXc-ktVF"
      },
      "execution_count": 30,
      "outputs": []
    },
    {
      "cell_type": "code",
      "source": [
        "symbols = ['BTCUSDT','ETHUSDT','BNBUSDT','XRPUSDT','ADAUSDT']"
      ],
      "metadata": {
        "id": "1hN1NiIDnReu"
      },
      "execution_count": 31,
      "outputs": []
    },
    {
      "cell_type": "code",
      "source": [
        "price = []\n",
        "for symbol in symbols:\n",
        "  price.append(getdailydata(symbol))"
      ],
      "metadata": {
        "id": "GB6SV0uLstHD"
      },
      "execution_count": 32,
      "outputs": []
    },
    {
      "cell_type": "code",
      "source": [
        "df = pd.concat(price, axis=1)\n",
        "df"
      ],
      "metadata": {
        "id": "OUx709u1s-X6",
        "colab": {
          "base_uri": "https://localhost:8080/",
          "height": 455
        },
        "outputId": "93581fa1-696c-42b4-fc2c-683feb9fda35"
      },
      "execution_count": 33,
      "outputs": [
        {
          "output_type": "execute_result",
          "data": {
            "text/plain": [
              "                BTCUSDT  ETHUSDT   BNBUSDT  XRPUSDT  ADAUSDT\n",
              "Timestamp                                                   \n",
              "1556841600000   5772.69   168.06   23.6999  0.30784  0.06995\n",
              "1556928000000   5829.45   163.70   22.8888  0.30305  0.06687\n",
              "1557014400000   5775.62   163.05   22.9777  0.30044  0.06603\n",
              "1557100800000   5747.79   173.00   22.1895  0.30283  0.06696\n",
              "1557187200000   5846.34   169.18   20.6602  0.29819  0.06412\n",
              "...                 ...      ...       ...      ...      ...\n",
              "1651104000000  39742.07  2936.93  407.1000  0.64280  0.84320\n",
              "1651190400000  38596.11  2817.13  393.0000  0.61160  0.80480\n",
              "1651276800000  37630.80  2726.66  377.1000  0.58450  0.75560\n",
              "1651363200000  38468.35  2824.81  389.9000  0.60700  0.78950\n",
              "1651449600000  38591.02  2802.52  386.8000  0.61200  0.77580\n",
              "\n",
              "[1096 rows x 5 columns]"
            ],
            "text/html": [
              "\n",
              "  <div id=\"df-8ab9d7fc-0f2a-43f3-8900-3abde477ec00\">\n",
              "    <div class=\"colab-df-container\">\n",
              "      <div>\n",
              "<style scoped>\n",
              "    .dataframe tbody tr th:only-of-type {\n",
              "        vertical-align: middle;\n",
              "    }\n",
              "\n",
              "    .dataframe tbody tr th {\n",
              "        vertical-align: top;\n",
              "    }\n",
              "\n",
              "    .dataframe thead th {\n",
              "        text-align: right;\n",
              "    }\n",
              "</style>\n",
              "<table border=\"1\" class=\"dataframe\">\n",
              "  <thead>\n",
              "    <tr style=\"text-align: right;\">\n",
              "      <th></th>\n",
              "      <th>BTCUSDT</th>\n",
              "      <th>ETHUSDT</th>\n",
              "      <th>BNBUSDT</th>\n",
              "      <th>XRPUSDT</th>\n",
              "      <th>ADAUSDT</th>\n",
              "    </tr>\n",
              "    <tr>\n",
              "      <th>Timestamp</th>\n",
              "      <th></th>\n",
              "      <th></th>\n",
              "      <th></th>\n",
              "      <th></th>\n",
              "      <th></th>\n",
              "    </tr>\n",
              "  </thead>\n",
              "  <tbody>\n",
              "    <tr>\n",
              "      <th>1556841600000</th>\n",
              "      <td>5772.69</td>\n",
              "      <td>168.06</td>\n",
              "      <td>23.6999</td>\n",
              "      <td>0.30784</td>\n",
              "      <td>0.06995</td>\n",
              "    </tr>\n",
              "    <tr>\n",
              "      <th>1556928000000</th>\n",
              "      <td>5829.45</td>\n",
              "      <td>163.70</td>\n",
              "      <td>22.8888</td>\n",
              "      <td>0.30305</td>\n",
              "      <td>0.06687</td>\n",
              "    </tr>\n",
              "    <tr>\n",
              "      <th>1557014400000</th>\n",
              "      <td>5775.62</td>\n",
              "      <td>163.05</td>\n",
              "      <td>22.9777</td>\n",
              "      <td>0.30044</td>\n",
              "      <td>0.06603</td>\n",
              "    </tr>\n",
              "    <tr>\n",
              "      <th>1557100800000</th>\n",
              "      <td>5747.79</td>\n",
              "      <td>173.00</td>\n",
              "      <td>22.1895</td>\n",
              "      <td>0.30283</td>\n",
              "      <td>0.06696</td>\n",
              "    </tr>\n",
              "    <tr>\n",
              "      <th>1557187200000</th>\n",
              "      <td>5846.34</td>\n",
              "      <td>169.18</td>\n",
              "      <td>20.6602</td>\n",
              "      <td>0.29819</td>\n",
              "      <td>0.06412</td>\n",
              "    </tr>\n",
              "    <tr>\n",
              "      <th>...</th>\n",
              "      <td>...</td>\n",
              "      <td>...</td>\n",
              "      <td>...</td>\n",
              "      <td>...</td>\n",
              "      <td>...</td>\n",
              "    </tr>\n",
              "    <tr>\n",
              "      <th>1651104000000</th>\n",
              "      <td>39742.07</td>\n",
              "      <td>2936.93</td>\n",
              "      <td>407.1000</td>\n",
              "      <td>0.64280</td>\n",
              "      <td>0.84320</td>\n",
              "    </tr>\n",
              "    <tr>\n",
              "      <th>1651190400000</th>\n",
              "      <td>38596.11</td>\n",
              "      <td>2817.13</td>\n",
              "      <td>393.0000</td>\n",
              "      <td>0.61160</td>\n",
              "      <td>0.80480</td>\n",
              "    </tr>\n",
              "    <tr>\n",
              "      <th>1651276800000</th>\n",
              "      <td>37630.80</td>\n",
              "      <td>2726.66</td>\n",
              "      <td>377.1000</td>\n",
              "      <td>0.58450</td>\n",
              "      <td>0.75560</td>\n",
              "    </tr>\n",
              "    <tr>\n",
              "      <th>1651363200000</th>\n",
              "      <td>38468.35</td>\n",
              "      <td>2824.81</td>\n",
              "      <td>389.9000</td>\n",
              "      <td>0.60700</td>\n",
              "      <td>0.78950</td>\n",
              "    </tr>\n",
              "    <tr>\n",
              "      <th>1651449600000</th>\n",
              "      <td>38591.02</td>\n",
              "      <td>2802.52</td>\n",
              "      <td>386.8000</td>\n",
              "      <td>0.61200</td>\n",
              "      <td>0.77580</td>\n",
              "    </tr>\n",
              "  </tbody>\n",
              "</table>\n",
              "<p>1096 rows × 5 columns</p>\n",
              "</div>\n",
              "      <button class=\"colab-df-convert\" onclick=\"convertToInteractive('df-8ab9d7fc-0f2a-43f3-8900-3abde477ec00')\"\n",
              "              title=\"Convert this dataframe to an interactive table.\"\n",
              "              style=\"display:none;\">\n",
              "        \n",
              "  <svg xmlns=\"http://www.w3.org/2000/svg\" height=\"24px\"viewBox=\"0 0 24 24\"\n",
              "       width=\"24px\">\n",
              "    <path d=\"M0 0h24v24H0V0z\" fill=\"none\"/>\n",
              "    <path d=\"M18.56 5.44l.94 2.06.94-2.06 2.06-.94-2.06-.94-.94-2.06-.94 2.06-2.06.94zm-11 1L8.5 8.5l.94-2.06 2.06-.94-2.06-.94L8.5 2.5l-.94 2.06-2.06.94zm10 10l.94 2.06.94-2.06 2.06-.94-2.06-.94-.94-2.06-.94 2.06-2.06.94z\"/><path d=\"M17.41 7.96l-1.37-1.37c-.4-.4-.92-.59-1.43-.59-.52 0-1.04.2-1.43.59L10.3 9.45l-7.72 7.72c-.78.78-.78 2.05 0 2.83L4 21.41c.39.39.9.59 1.41.59.51 0 1.02-.2 1.41-.59l7.78-7.78 2.81-2.81c.8-.78.8-2.07 0-2.86zM5.41 20L4 18.59l7.72-7.72 1.47 1.35L5.41 20z\"/>\n",
              "  </svg>\n",
              "      </button>\n",
              "      \n",
              "  <style>\n",
              "    .colab-df-container {\n",
              "      display:flex;\n",
              "      flex-wrap:wrap;\n",
              "      gap: 12px;\n",
              "    }\n",
              "\n",
              "    .colab-df-convert {\n",
              "      background-color: #E8F0FE;\n",
              "      border: none;\n",
              "      border-radius: 50%;\n",
              "      cursor: pointer;\n",
              "      display: none;\n",
              "      fill: #1967D2;\n",
              "      height: 32px;\n",
              "      padding: 0 0 0 0;\n",
              "      width: 32px;\n",
              "    }\n",
              "\n",
              "    .colab-df-convert:hover {\n",
              "      background-color: #E2EBFA;\n",
              "      box-shadow: 0px 1px 2px rgba(60, 64, 67, 0.3), 0px 1px 3px 1px rgba(60, 64, 67, 0.15);\n",
              "      fill: #174EA6;\n",
              "    }\n",
              "\n",
              "    [theme=dark] .colab-df-convert {\n",
              "      background-color: #3B4455;\n",
              "      fill: #D2E3FC;\n",
              "    }\n",
              "\n",
              "    [theme=dark] .colab-df-convert:hover {\n",
              "      background-color: #434B5C;\n",
              "      box-shadow: 0px 1px 3px 1px rgba(0, 0, 0, 0.15);\n",
              "      filter: drop-shadow(0px 1px 2px rgba(0, 0, 0, 0.3));\n",
              "      fill: #FFFFFF;\n",
              "    }\n",
              "  </style>\n",
              "\n",
              "      <script>\n",
              "        const buttonEl =\n",
              "          document.querySelector('#df-8ab9d7fc-0f2a-43f3-8900-3abde477ec00 button.colab-df-convert');\n",
              "        buttonEl.style.display =\n",
              "          google.colab.kernel.accessAllowed ? 'block' : 'none';\n",
              "\n",
              "        async function convertToInteractive(key) {\n",
              "          const element = document.querySelector('#df-8ab9d7fc-0f2a-43f3-8900-3abde477ec00');\n",
              "          const dataTable =\n",
              "            await google.colab.kernel.invokeFunction('convertToInteractive',\n",
              "                                                     [key], {});\n",
              "          if (!dataTable) return;\n",
              "\n",
              "          const docLinkHtml = 'Like what you see? Visit the ' +\n",
              "            '<a target=\"_blank\" href=https://colab.research.google.com/notebooks/data_table.ipynb>data table notebook</a>'\n",
              "            + ' to learn more about interactive tables.';\n",
              "          element.innerHTML = '';\n",
              "          dataTable['output_type'] = 'display_data';\n",
              "          await google.colab.output.renderOutput(dataTable, element);\n",
              "          const docLink = document.createElement('div');\n",
              "          docLink.innerHTML = docLinkHtml;\n",
              "          element.appendChild(docLink);\n",
              "        }\n",
              "      </script>\n",
              "    </div>\n",
              "  </div>\n",
              "  "
            ]
          },
          "metadata": {},
          "execution_count": 33
        }
      ]
    },
    {
      "cell_type": "code",
      "source": [
        "mu = expected_returns.mean_historical_return(df, frequency=365)                           #Mu: Mean of the historical return (Average over 3y)\n",
        "mu"
      ],
      "metadata": {
        "id": "uCvT1nAWvHSD",
        "colab": {
          "base_uri": "https://localhost:8080/"
        },
        "outputId": "393bb8bd-75ab-45b8-cfa1-4bfde6a6ceea"
      },
      "execution_count": 34,
      "outputs": [
        {
          "output_type": "execute_result",
          "data": {
            "text/plain": [
              "BTCUSDT    0.883805\n",
              "ETHUSDT    1.554827\n",
              "BNBUSDT    1.536569\n",
              "XRPUSDT    0.257406\n",
              "ADAUSDT    1.230081\n",
              "dtype: float64"
            ]
          },
          "metadata": {},
          "execution_count": 34
        }
      ]
    },
    {
      "cell_type": "code",
      "source": [
        "S = risk_models.sample_cov(df, frequency=365)                                             #Sigma: Volatility (Covariance)\n",
        "S"
      ],
      "metadata": {
        "id": "peVUAHUJv409",
        "colab": {
          "base_uri": "https://localhost:8080/",
          "height": 206
        },
        "outputId": "eefccd6d-58ef-4b25-f75d-880845ffc4a3"
      },
      "execution_count": 35,
      "outputs": [
        {
          "output_type": "execute_result",
          "data": {
            "text/plain": [
              "          BTCUSDT   ETHUSDT   BNBUSDT   XRPUSDT   ADAUSDT\n",
              "BTCUSDT  0.580711  0.590720  0.549393  0.523937  0.556017\n",
              "ETHUSDT  0.590720  0.922292  0.728741  0.723012  0.789330\n",
              "BNBUSDT  0.549393  0.728741  1.241502  0.712871  0.754582\n",
              "XRPUSDT  0.523937  0.723012  0.712871  1.477508  0.795160\n",
              "ADAUSDT  0.556017  0.789330  0.754582  0.795160  1.274988"
            ],
            "text/html": [
              "\n",
              "  <div id=\"df-737ec145-b79c-439c-93a6-c9f56447f1a3\">\n",
              "    <div class=\"colab-df-container\">\n",
              "      <div>\n",
              "<style scoped>\n",
              "    .dataframe tbody tr th:only-of-type {\n",
              "        vertical-align: middle;\n",
              "    }\n",
              "\n",
              "    .dataframe tbody tr th {\n",
              "        vertical-align: top;\n",
              "    }\n",
              "\n",
              "    .dataframe thead th {\n",
              "        text-align: right;\n",
              "    }\n",
              "</style>\n",
              "<table border=\"1\" class=\"dataframe\">\n",
              "  <thead>\n",
              "    <tr style=\"text-align: right;\">\n",
              "      <th></th>\n",
              "      <th>BTCUSDT</th>\n",
              "      <th>ETHUSDT</th>\n",
              "      <th>BNBUSDT</th>\n",
              "      <th>XRPUSDT</th>\n",
              "      <th>ADAUSDT</th>\n",
              "    </tr>\n",
              "  </thead>\n",
              "  <tbody>\n",
              "    <tr>\n",
              "      <th>BTCUSDT</th>\n",
              "      <td>0.580711</td>\n",
              "      <td>0.590720</td>\n",
              "      <td>0.549393</td>\n",
              "      <td>0.523937</td>\n",
              "      <td>0.556017</td>\n",
              "    </tr>\n",
              "    <tr>\n",
              "      <th>ETHUSDT</th>\n",
              "      <td>0.590720</td>\n",
              "      <td>0.922292</td>\n",
              "      <td>0.728741</td>\n",
              "      <td>0.723012</td>\n",
              "      <td>0.789330</td>\n",
              "    </tr>\n",
              "    <tr>\n",
              "      <th>BNBUSDT</th>\n",
              "      <td>0.549393</td>\n",
              "      <td>0.728741</td>\n",
              "      <td>1.241502</td>\n",
              "      <td>0.712871</td>\n",
              "      <td>0.754582</td>\n",
              "    </tr>\n",
              "    <tr>\n",
              "      <th>XRPUSDT</th>\n",
              "      <td>0.523937</td>\n",
              "      <td>0.723012</td>\n",
              "      <td>0.712871</td>\n",
              "      <td>1.477508</td>\n",
              "      <td>0.795160</td>\n",
              "    </tr>\n",
              "    <tr>\n",
              "      <th>ADAUSDT</th>\n",
              "      <td>0.556017</td>\n",
              "      <td>0.789330</td>\n",
              "      <td>0.754582</td>\n",
              "      <td>0.795160</td>\n",
              "      <td>1.274988</td>\n",
              "    </tr>\n",
              "  </tbody>\n",
              "</table>\n",
              "</div>\n",
              "      <button class=\"colab-df-convert\" onclick=\"convertToInteractive('df-737ec145-b79c-439c-93a6-c9f56447f1a3')\"\n",
              "              title=\"Convert this dataframe to an interactive table.\"\n",
              "              style=\"display:none;\">\n",
              "        \n",
              "  <svg xmlns=\"http://www.w3.org/2000/svg\" height=\"24px\"viewBox=\"0 0 24 24\"\n",
              "       width=\"24px\">\n",
              "    <path d=\"M0 0h24v24H0V0z\" fill=\"none\"/>\n",
              "    <path d=\"M18.56 5.44l.94 2.06.94-2.06 2.06-.94-2.06-.94-.94-2.06-.94 2.06-2.06.94zm-11 1L8.5 8.5l.94-2.06 2.06-.94-2.06-.94L8.5 2.5l-.94 2.06-2.06.94zm10 10l.94 2.06.94-2.06 2.06-.94-2.06-.94-.94-2.06-.94 2.06-2.06.94z\"/><path d=\"M17.41 7.96l-1.37-1.37c-.4-.4-.92-.59-1.43-.59-.52 0-1.04.2-1.43.59L10.3 9.45l-7.72 7.72c-.78.78-.78 2.05 0 2.83L4 21.41c.39.39.9.59 1.41.59.51 0 1.02-.2 1.41-.59l7.78-7.78 2.81-2.81c.8-.78.8-2.07 0-2.86zM5.41 20L4 18.59l7.72-7.72 1.47 1.35L5.41 20z\"/>\n",
              "  </svg>\n",
              "      </button>\n",
              "      \n",
              "  <style>\n",
              "    .colab-df-container {\n",
              "      display:flex;\n",
              "      flex-wrap:wrap;\n",
              "      gap: 12px;\n",
              "    }\n",
              "\n",
              "    .colab-df-convert {\n",
              "      background-color: #E8F0FE;\n",
              "      border: none;\n",
              "      border-radius: 50%;\n",
              "      cursor: pointer;\n",
              "      display: none;\n",
              "      fill: #1967D2;\n",
              "      height: 32px;\n",
              "      padding: 0 0 0 0;\n",
              "      width: 32px;\n",
              "    }\n",
              "\n",
              "    .colab-df-convert:hover {\n",
              "      background-color: #E2EBFA;\n",
              "      box-shadow: 0px 1px 2px rgba(60, 64, 67, 0.3), 0px 1px 3px 1px rgba(60, 64, 67, 0.15);\n",
              "      fill: #174EA6;\n",
              "    }\n",
              "\n",
              "    [theme=dark] .colab-df-convert {\n",
              "      background-color: #3B4455;\n",
              "      fill: #D2E3FC;\n",
              "    }\n",
              "\n",
              "    [theme=dark] .colab-df-convert:hover {\n",
              "      background-color: #434B5C;\n",
              "      box-shadow: 0px 1px 3px 1px rgba(0, 0, 0, 0.15);\n",
              "      filter: drop-shadow(0px 1px 2px rgba(0, 0, 0, 0.3));\n",
              "      fill: #FFFFFF;\n",
              "    }\n",
              "  </style>\n",
              "\n",
              "      <script>\n",
              "        const buttonEl =\n",
              "          document.querySelector('#df-737ec145-b79c-439c-93a6-c9f56447f1a3 button.colab-df-convert');\n",
              "        buttonEl.style.display =\n",
              "          google.colab.kernel.accessAllowed ? 'block' : 'none';\n",
              "\n",
              "        async function convertToInteractive(key) {\n",
              "          const element = document.querySelector('#df-737ec145-b79c-439c-93a6-c9f56447f1a3');\n",
              "          const dataTable =\n",
              "            await google.colab.kernel.invokeFunction('convertToInteractive',\n",
              "                                                     [key], {});\n",
              "          if (!dataTable) return;\n",
              "\n",
              "          const docLinkHtml = 'Like what you see? Visit the ' +\n",
              "            '<a target=\"_blank\" href=https://colab.research.google.com/notebooks/data_table.ipynb>data table notebook</a>'\n",
              "            + ' to learn more about interactive tables.';\n",
              "          element.innerHTML = '';\n",
              "          dataTable['output_type'] = 'display_data';\n",
              "          await google.colab.output.renderOutput(dataTable, element);\n",
              "          const docLink = document.createElement('div');\n",
              "          docLink.innerHTML = docLinkHtml;\n",
              "          element.appendChild(docLink);\n",
              "        }\n",
              "      </script>\n",
              "    </div>\n",
              "  </div>\n",
              "  "
            ]
          },
          "metadata": {},
          "execution_count": 35
        }
      ]
    },
    {
      "cell_type": "code",
      "source": [
        "ef = EfficientFrontier (mu, S)                                                            #Efficient Frontier"
      ],
      "metadata": {
        "id": "LNUi049wwy6W"
      },
      "execution_count": 36,
      "outputs": []
    },
    {
      "cell_type": "markdown",
      "source": [
        "#PLOT"
      ],
      "metadata": {
        "id": "gfY6FH1dyRbD"
      }
    },
    {
      "cell_type": "code",
      "source": [
        "ef.tickers                                                                              #Pulling the tickers from Efficient Frotier"
      ],
      "metadata": {
        "colab": {
          "base_uri": "https://localhost:8080/"
        },
        "id": "WG3OH75SyZbt",
        "outputId": "327d2f64-e2de-4a0d-abd1-9c5d1c3c11c8"
      },
      "execution_count": 45,
      "outputs": [
        {
          "output_type": "execute_result",
          "data": {
            "text/plain": [
              "['BTCUSDT', 'ETHUSDT', 'BNBUSDT', 'XRPUSDT', 'ADAUSDT']"
            ]
          },
          "metadata": {},
          "execution_count": 45
        }
      ]
    },
    {
      "cell_type": "code",
      "source": [
        "ef.expected_returns                                                                     #Pulling the expected return from the assets"
      ],
      "metadata": {
        "colab": {
          "base_uri": "https://localhost:8080/"
        },
        "id": "q63-7SwQygE1",
        "outputId": "a63a5151-f7fa-400c-f406-a505053bb4ae"
      },
      "execution_count": 46,
      "outputs": [
        {
          "output_type": "execute_result",
          "data": {
            "text/plain": [
              "array([0.88380527, 1.55482674, 1.53656883, 0.25740579, 1.23008125])"
            ]
          },
          "metadata": {},
          "execution_count": 46
        }
      ]
    },
    {
      "cell_type": "code",
      "source": [
        "np.diag(ef.cov_matrix) ** (1/2)                                                         #Pulling the volatilty of the assets (square root of diagonal of cavariance matrix)"
      ],
      "metadata": {
        "colab": {
          "base_uri": "https://localhost:8080/"
        },
        "id": "aIBqMtKzymGc",
        "outputId": "a9d74e03-a315-4d9c-ee8e-6440e0485f14"
      },
      "execution_count": 47,
      "outputs": [
        {
          "output_type": "execute_result",
          "data": {
            "text/plain": [
              "array([0.76204421, 0.96036018, 1.11422703, 1.21552793, 1.12915359])"
            ]
          },
          "metadata": {},
          "execution_count": 47
        }
      ]
    },
    {
      "cell_type": "code",
      "source": [
        "ef = EfficientFrontier (mu, S)                                                          #before run the plot, run again fx EfficientFrotier or an error will show up\n",
        "\n",
        "fig, ax = plt.subplots()                                                                #Function to merge Plot with tickers\n",
        "plotting.plot_efficient_frontier(ef, ax=ax, show_assets=True)\n",
        "for i, txt in enumerate(ef.tickers):\n",
        "    ax.annotate(txt, ((np.diag(ef.cov_matrix) ** (1/2))[i], ef.expected_returns[i]))"
      ],
      "metadata": {
        "colab": {
          "base_uri": "https://localhost:8080/",
          "height": 297
        },
        "id": "JMqSqyBZyuoJ",
        "outputId": "2c517048-2cff-402b-b3c2-5fe996ec775c"
      },
      "execution_count": 48,
      "outputs": [
        {
          "output_type": "display_data",
          "data": {
            "text/plain": [
              "<Figure size 432x288 with 1 Axes>"
            ],
            "image/png": "[encoded data removed]"
          },
          "metadata": {
            "needs_background": "light"
          }
        }
      ]
    },
    {
      "cell_type": "markdown",
      "source": [
        "#RESULTS"
      ],
      "metadata": {
        "id": "FyKN6AuQ6Q2F"
      }
    },
    {
      "cell_type": "code",
      "source": [
        "ef = EfficientFrontier (mu, S)                                                          #before run the plot, run again fx EfficientFrotier or an error will show up\n",
        "weights = ef.max_sharpe()                                                               #Retur % of Asset to invest to Max Portfolio\n",
        "weights"
      ],
      "metadata": {
        "colab": {
          "base_uri": "https://localhost:8080/"
        },
        "id": "o7EO0Mwgy4Vi",
        "outputId": "c4852d45-d611-49af-cfbb-29ae9b886b8c"
      },
      "execution_count": 60,
      "outputs": [
        {
          "output_type": "execute_result",
          "data": {
            "text/plain": [
              "OrderedDict([('BTCUSDT', 0.0),\n",
              "             ('ETHUSDT', 0.7406576095577623),\n",
              "             ('BNBUSDT', 0.2593423904422377),\n",
              "             ('XRPUSDT', 0.0),\n",
              "             ('ADAUSDT', 0.0)])"
            ]
          },
          "metadata": {},
          "execution_count": 60
        }
      ]
    },
    {
      "cell_type": "code",
      "source": [
        "ef.portfolio_performance(verbose=True)                                                  #Return the portfolio performance"
      ],
      "metadata": {
        "colab": {
          "base_uri": "https://localhost:8080/"
        },
        "id": "MT3MFXE_zB0O",
        "outputId": "ee4ada89-ca01-4f0f-d028-3301fa8fd107"
      },
      "execution_count": 61,
      "outputs": [
        {
          "output_type": "stream",
          "name": "stdout",
          "text": [
            "Expected annual return: 155.0%\n",
            "Annual volatility: 93.2%\n",
            "Sharpe Ratio: 1.64\n"
          ]
        },
        {
          "output_type": "execute_result",
          "data": {
            "text/plain": [
              "(1.5500916920587895, 0.9324190360175715, 1.6409914780310801)"
            ]
          },
          "metadata": {},
          "execution_count": 61
        }
      ]
    },
    {
      "cell_type": "code",
      "source": [
        "ef = EfficientFrontier (mu, S)\n",
        "weights = ef.min_volatility()                                                           #Retur % of Asset to invest to Min Volatility\n",
        "weights"
      ],
      "metadata": {
        "colab": {
          "base_uri": "https://localhost:8080/"
        },
        "id": "VS6Y9m591Te6",
        "outputId": "ebb4446f-de08-463b-de7f-8c7b9d6991a8"
      },
      "execution_count": 64,
      "outputs": [
        {
          "output_type": "execute_result",
          "data": {
            "text/plain": [
              "OrderedDict([('BTCUSDT', 0.9190092571680643),\n",
              "             ('ETHUSDT', 0.0),\n",
              "             ('BNBUSDT', 0.0266826211502568),\n",
              "             ('XRPUSDT', 0.048747985619048),\n",
              "             ('ADAUSDT', 0.0055601360626311)])"
            ]
          },
          "metadata": {},
          "execution_count": 64
        }
      ]
    }
  ]
}